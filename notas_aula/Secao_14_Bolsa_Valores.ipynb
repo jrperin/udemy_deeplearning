{
 "cells": [
  {
   "cell_type": "markdown",
   "metadata": {},
   "source": [
    "# Instalação das Ferramentas\n",
    "\n",
    "* Instalar o Anaconda\n",
    "* Instalar o Keras _(facilita o uso do Tensorflow)_\n",
    "* Instalar o TensorFlow\n",
    "\n",
    "```\n",
    "$ pip install tensorflow\n",
    "$ pip install keras\n",
    "```\n",
    "\n",
    "__Obs.:__ Tive problemas em instalar o Tensorflow com o python 3.7\n",
    "\n",
    "__Reajustando o ambiente:__\n",
    "\n",
    "* __Voltando o Anaconda Base para python 3.6__\n",
    "```\n",
    "$ conda install python=3.6 \n",
    "```  \n",
    "  \n",
    "* __Outros comandos do Conda:__\n",
    "```\n",
    "$ conda info --envs\n",
    "$ conda create -n py36 python=3.6 anaconda\n",
    "$ source activate py36\n",
    "$ source deactivate\n",
    "```"
   ]
  },
  {
   "cell_type": "code",
   "execution_count": 2,
   "metadata": {},
   "outputs": [],
   "source": [
    "from keras.models import Sequential\n",
    "from keras.layers import Dense, Dropout\n",
    "import numpy as np\n",
    "import pandas as pd"
   ]
  },
  {
   "cell_type": "code",
   "execution_count": null,
   "metadata": {},
   "outputs": [],
   "source": []
  },
  {
   "cell_type": "code",
   "execution_count": null,
   "metadata": {},
   "outputs": [],
   "source": []
  }
 ],
 "metadata": {
  "kernelspec": {
   "display_name": "Python 3",
   "language": "python",
   "name": "python3"
  },
  "language_info": {
   "codemirror_mode": {
    "name": "ipython",
    "version": 3
   },
   "file_extension": ".py",
   "mimetype": "text/x-python",
   "name": "python",
   "nbconvert_exporter": "python",
   "pygments_lexer": "ipython3",
   "version": "3.6.6"
  }
 },
 "nbformat": 4,
 "nbformat_minor": 2
}
